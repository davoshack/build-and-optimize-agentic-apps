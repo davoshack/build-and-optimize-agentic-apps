{
 "cells": [
  {
   "cell_type": "code",
   "execution_count": null,
   "id": "069dd8b5",
   "metadata": {},
   "outputs": [],
   "source": []
  }
 ],
 "metadata": {
  "kernelspec": {
   "display_name": "build-and-optimize-agents-apps",
   "language": "python",
   "name": "python3"
  },
  "language_info": {
   "name": "python",
   "version": "3.12.0"
  }
 },
 "nbformat": 4,
 "nbformat_minor": 5
}
