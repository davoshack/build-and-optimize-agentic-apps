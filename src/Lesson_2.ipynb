{
 "cells": [
  {
   "cell_type": "markdown",
   "id": "531f510b",
   "metadata": {},
   "source": [
    "# L2: DSPy Programming - Signatures and Modules"
   ]
  },
  {
   "cell_type": "markdown",
   "id": "cb9181ac",
   "metadata": {},
   "source": [
    "### Set up API key"
   ]
  },
  {
   "cell_type": "code",
   "execution_count": null,
   "id": "069dd8b5",
   "metadata": {},
   "outputs": [],
   "source": [
    "from ai_custom_utils.helper import get_openai_api_key\n",
    "OPENAI_API_KEY=get_openai_api_key()"
   ]
  },
  {
   "cell_type": "markdown",
   "id": "00999655",
   "metadata": {},
   "source": [
    "### Configure the LM"
   ]
  },
  {
   "cell_type": "code",
   "execution_count": null,
   "id": "edec19ee",
   "metadata": {},
   "outputs": [],
   "source": [
    "import dspy\n",
    "dspy.settings.configure(lm=dspy.LM(\"openai/gpt-4o-mini\"))"
   ]
  },
  {
   "cell_type": "markdown",
   "id": "ff7c90a1",
   "metadata": {},
   "source": [
    "## Use DSPy built-in Module to Build a Sentiment Classifier"
   ]
  },
  {
   "cell_type": "code",
   "execution_count": null,
   "id": "97ae2815",
   "metadata": {},
   "outputs": [],
   "source": [
    "class SentimentClassifier(dspy.Signature):\n",
    "    \"\"\"Classify the sentiment of a text.\"\"\"\n",
    "\n",
    "    text: str = dspy.InputField(desc=\"input text to classify sentiment\")\n",
    "    sentiment: int = dspy.OutputField(\n",
    "        desc=\"sentiment, the higher the more positive\", ge=0, le=10\n",
    "    )"
   ]
  },
  {
   "cell_type": "code",
   "execution_count": null,
   "id": "6ec77db6",
   "metadata": {},
   "outputs": [],
   "source": [
    "str_signature = dspy.make_signature(\"text -> sentiment\")"
   ]
  },
  {
   "cell_type": "markdown",
   "id": "1faecad0",
   "metadata": {},
   "source": [
    "### Create a Module to Interact with the LM"
   ]
  },
  {
   "cell_type": "code",
   "execution_count": null,
   "id": "3c0bb05c",
   "metadata": {},
   "outputs": [],
   "source": [
    "predict = dspy.Predict(SentimentClassifier)"
   ]
  },
  {
   "cell_type": "code",
   "execution_count": null,
   "id": "9e09cc33",
   "metadata": {},
   "outputs": [],
   "source": [
    "output = predict(text=\"I am feeling pretty happy!\")\n",
    "print(output)"
   ]
  },
  {
   "cell_type": "code",
   "execution_count": null,
   "id": "daeaa86f",
   "metadata": {},
   "outputs": [],
   "source": [
    "print(f\"The sentiment is: {output.sentiment}\")\n",
    "print(f\"The sentiment is: {output['sentiment']}\")"
   ]
  },
  {
   "cell_type": "code",
   "execution_count": null,
   "id": "264bfb26",
   "metadata": {},
   "outputs": [],
   "source": [
    "dspy.configure(lm=dspy.LM(\"openai/gpt-4o\"))\n",
    "print(predict(text=\"I am feeling pretty happy!\"))"
   ]
  },
  {
   "cell_type": "code",
   "execution_count": null,
   "id": "af2b8b15",
   "metadata": {},
   "outputs": [],
   "source": [
    "dspy.configure(lm=dspy.LM(\"openai/gpt-4o-mini\"))"
   ]
  },
  {
   "cell_type": "markdown",
   "id": "7501042f",
   "metadata": {},
   "source": [
    "### Wait, Where is My Prompt? "
   ]
  },
  {
   "cell_type": "code",
   "execution_count": null,
   "id": "53c96298",
   "metadata": {},
   "outputs": [],
   "source": [
    "dspy.inspect_history(n=1)"
   ]
  },
  {
   "cell_type": "markdown",
   "id": "ff662c6a",
   "metadata": {},
   "source": [
    "### Try a Different Built-in Module"
   ]
  },
  {
   "cell_type": "code",
   "execution_count": null,
   "id": "e0cf70a7",
   "metadata": {},
   "outputs": [],
   "source": [
    "cot = dspy.ChainOfThought(SentimentClassifier)\n",
    "\n",
    "output = cot(text=\"I am feeling pretty happy!\")\n",
    "print(output)"
   ]
  },
  {
   "cell_type": "code",
   "execution_count": null,
   "id": "93eb1826",
   "metadata": {},
   "outputs": [],
   "source": [
    "dspy.inspect_history(n=1)"
   ]
  },
  {
   "cell_type": "markdown",
   "id": "b045b6aa",
   "metadata": {},
   "source": [
    "### Use a Different Adapter"
   ]
  },
  {
   "cell_type": "code",
   "execution_count": null,
   "id": "7f1881c7",
   "metadata": {},
   "outputs": [],
   "source": [
    "dspy.configure(adapter=dspy.JSONAdapter())"
   ]
  },
  {
   "cell_type": "code",
   "execution_count": null,
   "id": "77d7e2c0",
   "metadata": {},
   "outputs": [],
   "source": [
    "print(cot(text=\"I am feeling pretty happy!\"))\n",
    "dspy.inspect_history(n=1)"
   ]
  },
  {
   "cell_type": "markdown",
   "id": "4664228e",
   "metadata": {},
   "source": [
    "## Build a Program with Custom Module"
   ]
  },
  {
   "cell_type": "code",
   "execution_count": null,
   "id": "1bec279a",
   "metadata": {},
   "outputs": [],
   "source": [
    "class QuestionGenerator(dspy.Signature):\n",
    "    \"\"\"Generate a yes or no question in order to guess the celebrity name in users' mind. You can ask in general or directly guess the name if you think the signal is enough. You should never ask the same question in the past_questions.\"\"\"\n",
    "    past_questions: list[str] = dspy.InputField(desc=\"past questions asked\")\n",
    "    past_answers: list[bool] = dspy.InputField(desc=\"past answers\")\n",
    "    new_question: str = dspy.OutputField(desc=\"new question that can help narrow down the celebrity name\")\n",
    "    guess_made: bool = dspy.OutputField(desc=\"If the new_question is the celebrity name guess, set to True, if it is still a general question set to False\")\n",
    "\n",
    "\n",
    "class Reflection(dspy.Signature):\n",
    "    \"\"\"Provide reflection on the guessing process\"\"\"\n",
    "    correct_celebrity_name: str = dspy.InputField(desc=\"the celebrity name in user's mind\")\n",
    "    final_guessor_question: str = dspy.InputField(desc=\"the final guess or question LM made\")\n",
    "    past_questions: list[str] = dspy.InputField(desc=\"past questions asked\")\n",
    "    past_answers: list[bool] = dspy.InputField(desc=\"past answers\")\n",
    "\n",
    "    reflection: str = dspy.OutputField(\n",
    "        desc=\"reflection on the guessing process, including what was done well and what can be improved\"\n",
    "    )\n",
    "\n",
    "def ask(prompt, valid_responses=(\"y\", \"n\")):\n",
    "    while True:\n",
    "        response = input(f\"{prompt} ({'/'.join(valid_responses)}): \").strip().lower()\n",
    "        if response in valid_responses:\n",
    "            return response\n",
    "        print(f\"Please enter one of: {', '.join(valid_responses)}\")\n",
    "\n",
    "class CelebrityGuess(dspy.Module):\n",
    "    def __init__(self, max_tries=10):\n",
    "        super().__init__()\n",
    "\n",
    "        self.question_generator = dspy.ChainOfThought(QuestionGenerator)\n",
    "        self.reflection = dspy.ChainOfThought(Reflection)\n",
    "\n",
    "        self.max_tries = 20\n",
    "\n",
    "    def forward(self):\n",
    "        celebrity_name = input(\"Please think of a celebrity name, once you are ready, type the name and press enter...\")\n",
    "        past_questions = []\n",
    "        past_answers = []\n",
    "\n",
    "        correct_guess = False\n",
    "\n",
    "        for i in range(self.max_tries):\n",
    "            question = self.question_generator(\n",
    "                past_questions=past_questions,\n",
    "                past_answers=past_answers,\n",
    "            )\n",
    "            answer = ask(f\"{question.new_question}\").lower() == \"y\"\n",
    "            past_questions.append(question.new_question)\n",
    "            past_answers.append(answer)\n",
    "\n",
    "            if question.guess_made and answer:\n",
    "                correct_guess = True\n",
    "                break\n",
    "\n",
    "        if correct_guess:\n",
    "            print(\"Yay! I got it right!\")\n",
    "        else:\n",
    "            print(\"Oops, I couldn't guess it right.\")\n",
    "\n",
    "        reflection = self.reflection(\n",
    "            correct_celebrity_name=celebrity_name,\n",
    "            final_guessor_question=question.new_question,\n",
    "            past_questions=past_questions,\n",
    "            past_answers=past_answers,\n",
    "        )\n",
    "        print(reflection.reflection)\n"
   ]
  },
  {
   "cell_type": "code",
   "execution_count": null,
   "id": "6723caf9",
   "metadata": {},
   "outputs": [],
   "source": [
    "celebrity_guess = CelebrityGuess()"
   ]
  },
  {
   "cell_type": "code",
   "execution_count": null,
   "id": "1eee7dac",
   "metadata": {},
   "outputs": [],
   "source": [
    "celebrity_guess()"
   ]
  },
  {
   "cell_type": "markdown",
   "id": "5b9abc2a",
   "metadata": {},
   "source": [
    "## Save and Load"
   ]
  },
  {
   "cell_type": "code",
   "execution_count": null,
   "id": "5f49f257",
   "metadata": {},
   "outputs": [],
   "source": [
    "celebrity_guess.save(\"dspy_program/celebrity.json\", save_program=False)"
   ]
  },
  {
   "cell_type": "code",
   "execution_count": null,
   "id": "60c5bb40",
   "metadata": {},
   "outputs": [],
   "source": [
    "celebrity_guess.load(\"dspy_program/celebrity.json\")"
   ]
  },
  {
   "cell_type": "code",
   "execution_count": null,
   "id": "5f65009a",
   "metadata": {},
   "outputs": [],
   "source": [
    "celebrity_guess.save(\"dspy_program/celebrity/\", save_program=True)"
   ]
  },
  {
   "cell_type": "code",
   "execution_count": null,
   "id": "6e00e4d1",
   "metadata": {},
   "outputs": [],
   "source": [
    "loaded = dspy.load(\"dspy_program/celebrity/\")"
   ]
  },
  {
   "cell_type": "code",
   "execution_count": null,
   "id": "5e5546e9",
   "metadata": {},
   "outputs": [],
   "source": [
    "loaded()"
   ]
  }
 ],
 "metadata": {
  "kernelspec": {
   "display_name": ".venv",
   "language": "python",
   "name": "python3"
  },
  "language_info": {
   "codemirror_mode": {
    "name": "ipython",
    "version": 3
   },
   "file_extension": ".py",
   "mimetype": "text/x-python",
   "name": "python",
   "nbconvert_exporter": "python",
   "pygments_lexer": "ipython3",
   "version": "3.12.0"
  }
 },
 "nbformat": 4,
 "nbformat_minor": 5
}
